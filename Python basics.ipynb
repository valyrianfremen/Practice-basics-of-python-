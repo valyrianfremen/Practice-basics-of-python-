{
 "cells": [
  {
   "cell_type": "markdown",
   "id": "c0535328-1657-4edc-a1ec-33cdc85c5ac3",
   "metadata": {},
   "source": [
    "# Python basics\n"
   ]
  },
  {
   "cell_type": "markdown",
   "id": "6a4471e0-68a0-4053-95c4-08c8fd01e344",
   "metadata": {},
   "source": [
    " # Operators"
   ]
  },
  {
   "cell_type": "code",
   "execution_count": 1,
   "id": "81d340dd-2101-47e6-b1ad-b81174178a48",
   "metadata": {},
   "outputs": [
    {
     "data": {
      "text/plain": [
       "2"
      ]
     },
     "execution_count": 1,
     "metadata": {},
     "output_type": "execute_result"
    }
   ],
   "source": [
    "1+1 #addition"
   ]
  },
  {
   "cell_type": "code",
   "execution_count": 2,
   "id": "b4a0cc46-913b-4558-8382-e8330f7ccca2",
   "metadata": {},
   "outputs": [
    {
     "data": {
      "text/plain": [
       "20"
      ]
     },
     "execution_count": 2,
     "metadata": {},
     "output_type": "execute_result"
    }
   ],
   "source": [
    "4*5 #multiplication"
   ]
  },
  {
   "cell_type": "code",
   "execution_count": 3,
   "id": "423af770-b4c2-4434-9ce8-92333aca61dd",
   "metadata": {},
   "outputs": [
    {
     "data": {
      "text/plain": [
       "5"
      ]
     },
     "execution_count": 3,
     "metadata": {},
     "output_type": "execute_result"
    }
   ],
   "source": [
    "9-4 #subtraction"
   ]
  },
  {
   "cell_type": "code",
   "execution_count": 4,
   "id": "d6f9ea3d-be75-4746-87fc-0ca2286f7d4f",
   "metadata": {},
   "outputs": [
    {
     "data": {
      "text/plain": [
       "5.0"
      ]
     },
     "execution_count": 4,
     "metadata": {},
     "output_type": "execute_result"
    }
   ],
   "source": [
    "10/2 #division"
   ]
  },
  {
   "cell_type": "code",
   "execution_count": 6,
   "id": "b8b92132-3b04-48da-a08d-117a4512149e",
   "metadata": {},
   "outputs": [
    {
     "data": {
      "text/plain": [
       "0"
      ]
     },
     "execution_count": 6,
     "metadata": {},
     "output_type": "execute_result"
    }
   ],
   "source": [
    "10%2 #mod check for remainders"
   ]
  },
  {
   "cell_type": "code",
   "execution_count": 7,
   "id": "53e766dc-26f9-4f97-ab81-93662274d5e2",
   "metadata": {},
   "outputs": [
    {
     "data": {
      "text/plain": [
       "100"
      ]
     },
     "execution_count": 7,
     "metadata": {},
     "output_type": "execute_result"
    }
   ],
   "source": [
    "10**2  #exponent"
   ]
  },
  {
   "cell_type": "code",
   "execution_count": 9,
   "id": "74616e48-337f-4dcc-aeb6-d21fd955526d",
   "metadata": {},
   "outputs": [
    {
     "data": {
      "text/plain": [
       "'strstrstrstrstrstrstrstrstrstr'"
      ]
     },
     "execution_count": 9,
     "metadata": {},
     "output_type": "execute_result"
    }
   ],
   "source": [
    "10 * \"str\" #multiplies str 10 times"
   ]
  },
  {
   "cell_type": "markdown",
   "id": "077f83f8-a0ea-4ae1-8d31-c0eb7f91c05c",
   "metadata": {},
   "source": [
    "\n",
    "# Data types"
   ]
  },
  {
   "cell_type": "code",
   "execution_count": 11,
   "id": "f717f645-35a7-4dd9-b2f8-b690e7fb13cd",
   "metadata": {},
   "outputs": [
    {
     "data": {
      "text/plain": [
       "int"
      ]
     },
     "execution_count": 11,
     "metadata": {},
     "output_type": "execute_result"
    }
   ],
   "source": [
    "type(1)"
   ]
  },
  {
   "cell_type": "code",
   "execution_count": 12,
   "id": "fd1532c0-5401-4d4f-9cd4-81aa82ddec29",
   "metadata": {},
   "outputs": [
    {
     "data": {
      "text/plain": [
       "str"
      ]
     },
     "execution_count": 12,
     "metadata": {},
     "output_type": "execute_result"
    }
   ],
   "source": [
    "type ('strong')"
   ]
  },
  {
   "cell_type": "code",
   "execution_count": 13,
   "id": "fb8b3c97-c6c5-489a-876e-6cd03eef52fb",
   "metadata": {},
   "outputs": [
    {
     "data": {
      "text/plain": [
       "bool"
      ]
     },
     "execution_count": 13,
     "metadata": {},
     "output_type": "execute_result"
    }
   ],
   "source": [
    "type(False)"
   ]
  },
  {
   "cell_type": "code",
   "execution_count": 14,
   "id": "3421a3b4-4ee9-4fe2-be96-51aa6e1d356b",
   "metadata": {},
   "outputs": [
    {
     "data": {
      "text/plain": [
       "float"
      ]
     },
     "execution_count": 14,
     "metadata": {},
     "output_type": "execute_result"
    }
   ],
   "source": [
    "type (3.987)"
   ]
  },
  {
   "cell_type": "code",
   "execution_count": 15,
   "id": "16bde921-6ba2-4f85-8954-711c56e91f46",
   "metadata": {},
   "outputs": [
    {
     "data": {
      "text/plain": [
       "str"
      ]
     },
     "execution_count": 15,
     "metadata": {},
     "output_type": "execute_result"
    }
   ],
   "source": [
    "type(\"hello\")"
   ]
  },
  {
   "cell_type": "code",
   "execution_count": null,
   "id": "16cf7bbb-c5e3-49ba-a751-75980fa666f3",
   "metadata": {},
   "outputs": [],
   "source": []
  },
  {
   "cell_type": "markdown",
   "id": "c967b264-bf3d-4364-acec-aea21a0236e1",
   "metadata": {},
   "source": [
    "# Variable assignment"
   ]
  },
  {
   "cell_type": "code",
   "execution_count": 17,
   "id": "fa77bd88-b7bc-4c03-8edf-fd229f270ab4",
   "metadata": {},
   "outputs": [],
   "source": [
    "#syntax\n",
    "#variable_name = values"
   ]
  },
  {
   "cell_type": "code",
   "execution_count": 18,
   "id": "2d51b2af-9049-4b5b-9bd7-d55851825e2e",
   "metadata": {},
   "outputs": [],
   "source": [
    "a = 10"
   ]
  },
  {
   "cell_type": "code",
   "execution_count": 19,
   "id": "c8cb272f-471b-45c5-b70e-22e496e3b529",
   "metadata": {},
   "outputs": [
    {
     "data": {
      "text/plain": [
       "int"
      ]
     },
     "execution_count": 19,
     "metadata": {},
     "output_type": "execute_result"
    }
   ],
   "source": [
    "type(a)"
   ]
  },
  {
   "cell_type": "code",
   "execution_count": 21,
   "id": "59731649-0a15-47a2-ac39-2bb77d8bcce1",
   "metadata": {},
   "outputs": [],
   "source": [
    "#mathematical operation with variable assignment"
   ]
  },
  {
   "cell_type": "code",
   "execution_count": 23,
   "id": "f53af813-2f06-4c82-8771-aaa29bb3d014",
   "metadata": {},
   "outputs": [],
   "source": [
    "a = 10\n",
    "b = 20"
   ]
  },
  {
   "cell_type": "code",
   "execution_count": 25,
   "id": "485c0c06-ffa1-411e-bbeb-3b0d95c0d588",
   "metadata": {},
   "outputs": [
    {
     "name": "stdout",
     "output_type": "stream",
     "text": [
      "30\n",
      "-10\n",
      "200\n",
      "0.5\n",
      "10\n",
      "200.5\n"
     ]
    }
   ],
   "source": [
    "print (a+b)\n",
    "print (a-b)\n",
    "print (a*b)\n",
    "print (a/b)\n",
    "print (a%b)\n",
    "print ((a*b)+(a/b))  #uses bodmas\n",
    "\n"
   ]
  },
  {
   "cell_type": "code",
   "execution_count": 26,
   "id": "f65ed1b3-9ff5-4810-91e3-3b32397401c7",
   "metadata": {},
   "outputs": [],
   "source": [
    "#different ways of printing"
   ]
  },
  {
   "cell_type": "code",
   "execution_count": 27,
   "id": "47724ff2-f216-41fa-a56d-19fc258d4460",
   "metadata": {},
   "outputs": [
    {
     "name": "stdout",
     "output_type": "stream",
     "text": [
      "hello\n"
     ]
    }
   ],
   "source": [
    "print (\"hello\")"
   ]
  },
  {
   "cell_type": "code",
   "execution_count": 30,
   "id": "7e8eccda-379b-44ed-91f8-7deefa64ce0f",
   "metadata": {},
   "outputs": [
    {
     "name": "stdout",
     "output_type": "stream",
     "text": [
      "my first name is S and my last name is B\n"
     ]
    }
   ],
   "source": [
    "first_name = \"S\"\n",
    "last_name = \"B\"\n",
    "\n",
    "print (\"my first name is {} and my last name is {}\".format(first_name,last_name))"
   ]
  },
  {
   "cell_type": "code",
   "execution_count": 31,
   "id": "432665ea-9832-48a5-b68f-5e76316e22c7",
   "metadata": {},
   "outputs": [
    {
     "name": "stdout",
     "output_type": "stream",
     "text": [
      "my first name is S and my last name is B\n"
     ]
    }
   ],
   "source": [
    "print (\"my first name is {first} and my last name is {last}\". format(first = first_name, last = last_name))"
   ]
  },
  {
   "cell_type": "code",
   "execution_count": null,
   "id": "4fc03308-fd8c-4c72-8839-585c1d8798ff",
   "metadata": {},
   "outputs": [],
   "source": []
  },
  {
   "cell_type": "code",
   "execution_count": 32,
   "id": "9b5281a3-5304-468e-934d-2027ca2b643e",
   "metadata": {},
   "outputs": [
    {
     "data": {
      "text/plain": [
       "5"
      ]
     },
     "execution_count": 32,
     "metadata": {},
     "output_type": "execute_result"
    }
   ],
   "source": [
    "#Checking the length \n",
    "\n",
    "len(\"frogs\")"
   ]
  },
  {
   "cell_type": "code",
   "execution_count": 34,
   "id": "806b2ca2-c2af-4f37-bbf3-c48634264775",
   "metadata": {},
   "outputs": [
    {
     "data": {
      "text/plain": [
       "list"
      ]
     },
     "execution_count": 34,
     "metadata": {},
     "output_type": "execute_result"
    }
   ],
   "source": [
    "type([1, \"serum\", 0, 1.88, -1])"
   ]
  },
  {
   "cell_type": "code",
   "execution_count": null,
   "id": "78ef52c8-3a03-42ba-86a5-521ea8783df8",
   "metadata": {},
   "outputs": [],
   "source": []
  }
 ],
 "metadata": {
  "kernelspec": {
   "display_name": "Python 3 (ipykernel)",
   "language": "python",
   "name": "python3"
  },
  "language_info": {
   "codemirror_mode": {
    "name": "ipython",
    "version": 3
   },
   "file_extension": ".py",
   "mimetype": "text/x-python",
   "name": "python",
   "nbconvert_exporter": "python",
   "pygments_lexer": "ipython3",
   "version": "3.11.7"
  }
 },
 "nbformat": 4,
 "nbformat_minor": 5
}
